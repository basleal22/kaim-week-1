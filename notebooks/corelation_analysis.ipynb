{
  "cells": [
    {
      "cell_type": "markdown",
      "metadata": {
        "id": "view-in-github",
        "colab_type": "text"
      },
      "source": [
        "<a href=\"https://colab.research.google.com/github/basleal22/kaim-week-1/blob/task-3/notebooks/corelation_analysis.ipynb\" target=\"_parent\"><img src=\"https://colab.research.google.com/assets/colab-badge.svg\" alt=\"Open In Colab\"/></a>"
      ]
    },
    {
      "cell_type": "code",
      "source": [
        "!git clone https://github.com/basleal22/kaim-week-1\n",
        "%cd kaim-week-1\n",
        "!git switch task-3"
      ],
      "metadata": {
        "id": "UQOUi8xzbc8m",
        "outputId": "30edcaea-90a5-49e5-bf8e-6c1dddf74f26",
        "colab": {
          "base_uri": "https://localhost:8080/"
        }
      },
      "execution_count": 9,
      "outputs": [
        {
          "output_type": "stream",
          "name": "stdout",
          "text": [
            "Cloning into 'kaim-week-1'...\n",
            "remote: Enumerating objects: 439, done.\u001b[K\n",
            "remote: Counting objects: 100% (260/260), done.\u001b[K\n",
            "remote: Compressing objects: 100% (182/182), done.\u001b[K\n",
            "remote: Total 439 (delta 128), reused 190 (delta 69), pack-reused 179 (from 1)\u001b[K\n",
            "Receiving objects: 100% (439/439), 5.27 MiB | 11.15 MiB/s, done.\n",
            "Resolving deltas: 100% (231/231), done.\n",
            "/content/kaim-week-1/kaim-week-1/kaim-week-1\n",
            "Branch 'task-3' set up to track remote branch 'task-3' from 'origin'.\n",
            "Switched to a new branch 'task-3'\n"
          ]
        }
      ]
    },
    {
      "cell_type": "code",
      "source": [
        "from google.colab import drive\n",
        "drive.mount('/content/drive')"
      ],
      "metadata": {
        "id": "c01sTA1xbvMG",
        "outputId": "26a353b2-ae95-456f-e54e-79b2523989be",
        "colab": {
          "base_uri": "https://localhost:8080/"
        }
      },
      "execution_count": 10,
      "outputs": [
        {
          "output_type": "stream",
          "name": "stdout",
          "text": [
            "Drive already mounted at /content/drive; to attempt to forcibly remount, call drive.mount(\"/content/drive\", force_remount=True).\n"
          ]
        }
      ]
    },
    {
      "cell_type": "code",
      "execution_count": 24,
      "metadata": {
        "id": "qwRvIkVMbUJy",
        "outputId": "253b711f-aa1b-4be1-b37e-0e0e521207c2",
        "colab": {
          "base_uri": "https://localhost:8080/"
        }
      },
      "outputs": [
        {
          "output_type": "stream",
          "name": "stdout",
          "text": [
            "   Unnamed: 0                                           headline  \\\n",
            "0           0            Stocks That Hit 52-Week Highs On Friday   \n",
            "1           1         Stocks That Hit 52-Week Highs On Wednesday   \n",
            "2           2                      71 Biggest Movers From Friday   \n",
            "3           3       46 Stocks Moving In Friday's Mid-Day Session   \n",
            "4           4  B of A Securities Maintains Neutral on Agilent...   \n",
            "\n",
            "                                                 url          publisher  \\\n",
            "0  https://www.benzinga.com/news/20/06/16190091/s...  Benzinga Insights   \n",
            "1  https://www.benzinga.com/news/20/06/16170189/s...  Benzinga Insights   \n",
            "2  https://www.benzinga.com/news/20/05/16103463/7...         Lisa Levin   \n",
            "3  https://www.benzinga.com/news/20/05/16095921/4...         Lisa Levin   \n",
            "4  https://www.benzinga.com/news/20/05/16095304/b...         Vick Meyer   \n",
            "\n",
            "                        date stock  \n",
            "0  2020-06-05 10:30:54-04:00     A  \n",
            "1  2020-06-03 10:45:20-04:00     A  \n",
            "2  2020-05-26 04:30:07-04:00     A  \n",
            "3  2020-05-22 12:45:06-04:00     A  \n",
            "4  2020-05-22 11:38:59-04:00     A  \n"
          ]
        }
      ],
      "source": [
        "import yfinance as yf\n",
        "import pandas as pd\n",
        "import os\n",
        "from scripts.utils import CorrelationAnalyzer\n",
        "\n",
        "\n",
        "os.chdir('/content/kaim-week-1')\n",
        "datafile = \"/content/drive/MyDrive/data_raw_analyst/raw_analyst_ratings.csv\"  # Replace with the actual path to your CSV data file\n",
        "datafile_1=pd.read_csv(datafile)\n",
        "print(datafile_1.head())\n",
        "\n",
        "#analyzer = CorrelationAnalyzer()  # You can pass None for ticker, start_date, and end_date\n",
        "\n",
        "# Call the sentiment_stock_analysis method to get the correlation and the combined data\n",
        "#correlation, combined_data = analyzer.sentiment_stock_analysis(datafile)\n",
        "#print(combined_data.head())\n",
        "#print(datafile.head())\n"
      ]
    },
    {
      "cell_type": "code",
      "source": [
        "datafile_1['date'] = pd.to_datetime(datafile_1['date'], errors='coerce')\n",
        "datafile_1['date'] = datafile_1['date'].dt.tz_localize(None)\n",
        "print(datafile_1['date'].head())"
      ],
      "metadata": {
        "id": "UWwUia4wsInw",
        "outputId": "a483b922-78dc-43e9-874b-24149e252a36",
        "colab": {
          "base_uri": "https://localhost:8080/"
        }
      },
      "execution_count": 27,
      "outputs": [
        {
          "output_type": "stream",
          "name": "stdout",
          "text": [
            "0   2020-06-05 10:30:54\n",
            "1   2020-06-03 10:45:20\n",
            "2   2020-05-26 04:30:07\n",
            "3   2020-05-22 12:45:06\n",
            "4   2020-05-22 11:38:59\n",
            "Name: date, dtype: datetime64[ns]\n"
          ]
        }
      ]
    },
    {
      "cell_type": "code",
      "source": [
        "analyzer = CorrelationAnalyzer()\n",
        "print(type(datafile))\n",
        "datafile_1['sentiment'] = datafile_1['headline'].apply(analyzer.get_sentiment)\n",
        "\n",
        "\n"
      ],
      "metadata": {
        "id": "4lvv2-7edHAL",
        "outputId": "f00a2c97-9794-496d-872c-d01ff2d34c40",
        "colab": {
          "base_uri": "https://localhost:8080/"
        }
      },
      "execution_count": 29,
      "outputs": [
        {
          "output_type": "stream",
          "name": "stdout",
          "text": [
            "<class 'str'>\n"
          ]
        }
      ]
    },
    {
      "cell_type": "code",
      "source": [
        "print(\"Preprocessed Data:\", datafile_1[['headline','sentiment','stock']].head(30))"
      ],
      "metadata": {
        "id": "EVrk11M8kKlM",
        "outputId": "d0118b83-c7f1-4f17-a3ac-57917dafe8fe",
        "colab": {
          "base_uri": "https://localhost:8080/"
        }
      },
      "execution_count": 30,
      "outputs": [
        {
          "output_type": "stream",
          "name": "stdout",
          "text": [
            "Preprocessed Data:                                              headline  sentiment stock\n",
            "0             Stocks That Hit 52-Week Highs On Friday   0.000000     A\n",
            "1          Stocks That Hit 52-Week Highs On Wednesday   0.000000     A\n",
            "2                       71 Biggest Movers From Friday   0.000000     A\n",
            "3        46 Stocks Moving In Friday's Mid-Day Session   0.000000     A\n",
            "4   B of A Securities Maintains Neutral on Agilent...   0.000000     A\n",
            "5   CFRA Maintains Hold on Agilent Technologies, L...   0.000000     A\n",
            "6   UBS Maintains Neutral on Agilent Technologies,...   0.000000     A\n",
            "7   Agilent Technologies shares are trading higher...   0.250000     A\n",
            "8   Wells Fargo Maintains Overweight on Agilent Te...   0.000000     A\n",
            "9          10 Biggest Price Target Changes For Friday   0.000000     A\n",
            "10    30 Stocks Moving in Friday's Pre-Market Session   0.000000     A\n",
            "11  SVB Leerink Maintains Outperform on Agilent Te...   0.000000     A\n",
            "12  8 Stocks Moving In Thursday's After-Hours Session   0.000000     A\n",
            "13  Agilent Technologies shares are trading higher...   0.250000     A\n",
            "14  Agilent Technologies Q2 Adj. EPS $0.71 Beats $...   0.000000     A\n",
            "15                Earnings Scheduled For May 21, 2020   0.000000     A\n",
            "16  Agilent Technologies Receives FDA Approval for...   0.000000     A\n",
            "17  Q1 13F Roundup: How Buffett, Einhorn, Ackman A...   0.000000     A\n",
            "18  Pershing Square 13F Shows Fund Raises Stake In...   0.000000     A\n",
            "19  How Bill Ackman Successfully Navigated Coronav...   0.750000     A\n",
            "20  Shares of several healthcare companies are tra...   0.159091     A\n",
            "21  Shares of several healthcare companies are tra...   0.000000     A\n",
            "22  UBS Maintains Neutral on Agilent Technologies,...   0.000000     A\n",
            "23  Agilent Reports FDA Approval For PD-L1 Compani...   0.000000     A\n",
            "24  Agilent Reports Has Become Top-Level Sponsor O...  -0.200000     A\n",
            "25             Agilent Withdraws Q2 And FY20 Guidance   0.000000     A\n",
            "26  Shares of several companies in the auto dealer...   0.072955     A\n",
            "27  Shares of several healthcare companies are tra...   0.027500     A\n",
            "28  Stifel Maintains Hold on Agilent Technologies,...   0.000000     A\n",
            "29  Shares of several healthcare companies are tra...   0.000000     A\n"
          ]
        }
      ]
    },
    {
      "cell_type": "code",
      "source": [
        "datafile_1 = datafile_1.dropna(subset=['headline', 'date', 'stock'])\n",
        "preprocessed_data = analyzer.sentiment_correlation(datafile)\n",
        "print(datafile_1['date'].head())"
      ],
      "metadata": {
        "id": "RFBlUqsslDRm",
        "outputId": "1a1ae597-4c37-444e-8664-0d695db6c653",
        "colab": {
          "base_uri": "https://localhost:8080/",
          "height": 176
        }
      },
      "execution_count": 41,
      "outputs": [
        {
          "output_type": "error",
          "ename": "TypeError",
          "evalue": "string indices must be integers",
          "traceback": [
            "\u001b[0;31m---------------------------------------------------------------------------\u001b[0m",
            "\u001b[0;31mTypeError\u001b[0m                                 Traceback (most recent call last)",
            "\u001b[0;32m<ipython-input-41-74cfa4276885>\u001b[0m in \u001b[0;36m<cell line: 3>\u001b[0;34m()\u001b[0m\n\u001b[1;32m      1\u001b[0m \u001b[0;31m#datafile = datafile.dropna(subset=['headline', 'date', 'stock'])\u001b[0m\u001b[0;34m\u001b[0m\u001b[0;34m\u001b[0m\u001b[0m\n\u001b[1;32m      2\u001b[0m \u001b[0;31m#preprocessed_data = analyzer.sentiment_correlation(datafile)\u001b[0m\u001b[0;34m\u001b[0m\u001b[0;34m\u001b[0m\u001b[0m\n\u001b[0;32m----> 3\u001b[0;31m \u001b[0mprint\u001b[0m\u001b[0;34m(\u001b[0m\u001b[0mdatafile\u001b[0m\u001b[0;34m[\u001b[0m\u001b[0;34m'date'\u001b[0m\u001b[0;34m]\u001b[0m\u001b[0;34m.\u001b[0m\u001b[0mhead\u001b[0m\u001b[0;34m(\u001b[0m\u001b[0;34m)\u001b[0m\u001b[0;34m)\u001b[0m\u001b[0;34m\u001b[0m\u001b[0;34m\u001b[0m\u001b[0m\n\u001b[0m",
            "\u001b[0;31mTypeError\u001b[0m: string indices must be integers"
          ]
        }
      ]
    },
    {
      "cell_type": "code",
      "source": [
        "print(\"Preprocessed Data:\")\n",
        "print(preprocessed_data.head())\n",
        "datafile_1 = datafile_1.dropna(subset=['headline', 'date', 'stock'])\n",
        "datafile_1 = datafile_1.dropna(subset=['date'])\n",
        "print(datafile_1.isna().sum())"
      ],
      "metadata": {
        "id": "-z00145EnePi",
        "outputId": "e8e4acd8-a2b3-46d5-c698-18673c9408f5",
        "colab": {
          "base_uri": "https://localhost:8080/"
        }
      },
      "execution_count": 38,
      "outputs": [
        {
          "output_type": "stream",
          "name": "stdout",
          "text": [
            "Preprocessed Data:\n",
            "Empty DataFrame\n",
            "Columns: [headline, date, stock]\n",
            "Index: []\n",
            "Unnamed: 0    0\n",
            "headline      0\n",
            "url           0\n",
            "publisher     0\n",
            "date          0\n",
            "stock         0\n",
            "sentiment     0\n",
            "dtype: int64\n"
          ]
        }
      ]
    },
    {
      "cell_type": "code",
      "execution_count": null,
      "metadata": {
        "id": "TfPcC3uqbUJ2",
        "outputId": "d70e35ef-8cc1-434e-d2dc-6d7c93e05188",
        "colab": {
          "base_uri": "https://localhost:8080/",
          "height": 440
        }
      },
      "outputs": [
        {
          "output_type": "display_data",
          "data": {
            "text/plain": [
              "<Figure size 1000x600 with 1 Axes>"
            ],
            "image/png": "[encoded data removed]"
          },
          "metadata": {}
        }
      ],
      "source": [
        "plot_return_sent = analyzer.plot_sentiment_correlation(combined_data)\n",
        "plot_return_sent"
      ]
    },
    {
      "cell_type": "code",
      "execution_count": null,
      "metadata": {
        "id": "Icl-gFvNbUJ3",
        "outputId": "ca434702-0aac-4907-a182-23e0982644ae",
        "colab": {
          "base_uri": "https://localhost:8080/"
        }
      },
      "outputs": [
        {
          "output_type": "stream",
          "name": "stdout",
          "text": [
            "Correlation between news sentiment and stock returns: nan\n",
            "nan\n"
          ]
        }
      ],
      "source": [
        "# Optionally, you can print or work with the results here\n",
        "print(f\"Correlation between news sentiment and stock returns: {correlation:.2f}\")\n",
        "print(correlation)"
      ]
    },
    {
      "cell_type": "code",
      "execution_count": null,
      "metadata": {
        "id": "hwdDpU-kbUJ3"
      },
      "outputs": [],
      "source": []
    }
  ],
  "metadata": {
    "kernelspec": {
      "display_name": "Python 3",
      "name": "python3"
    },
    "language_info": {
      "codemirror_mode": {
        "name": "ipython",
        "version": 3
      },
      "file_extension": ".py",
      "mimetype": "text/x-python",
      "name": "python",
      "nbconvert_exporter": "python",
      "pygments_lexer": "ipython3",
      "version": "3.13.0"
    },
    "colab": {
      "provenance": [],
      "gpuType": "T4",
      "include_colab_link": true
    },
    "accelerator": "GPU"
  },
  "nbformat": 4,
  "nbformat_minor": 0
}