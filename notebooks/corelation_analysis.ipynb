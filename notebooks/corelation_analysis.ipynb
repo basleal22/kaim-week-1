{
 "cells": [
  {
   "cell_type": "code",
   "execution_count": 26,
   "metadata": {},
   "outputs": [
    {
     "name": "stdout",
     "output_type": "stream",
     "text": [
      "C:\\Users\\hp\\Desktop\\tutorial\\kaim-week-1\n"
     ]
    }
   ],
   "source": [
    "import yfinance as yf\n",
    "import pandas as pd\n",
    "import os\n",
    "from scripts.utils import CorrelationAnalyzer\n",
    "\n",
    "print(os.getcwd())\n",
    "os.chdir('C:/Users/hp/Desktop/tutorial/kaim-week-1')\n",
    "datafile = \"data/raw_analyst_ratings.csv\"  # Replace with the actual path to your CSV data file\n",
    "\n",
    "# Create an instance of the CorrelationAnalyzer class (you don't need ticker, start_date, and end_date now)\n",
    "analyzer = CorrelationAnalyzer()  # You can pass None for ticker, start_date, and end_date\n",
    "\n",
    "# Call the sentiment_stock_analysis method to get the correlation and the combined data\n",
    "correlation, combined_data = analyzer.sentiment_stock_analysis(datafile)\n",
    "\n"
   ]
  },
  {
   "cell_type": "code",
   "execution_count": null,
   "metadata": {},
   "outputs": [],
   "source": [
    "plot_return_sent = analyzer.plot_sentiment_correlation(combined_data)\n",
    "plot_return_sent"
   ]
  },
  {
   "cell_type": "code",
   "execution_count": 27,
   "metadata": {},
   "outputs": [
    {
     "data": {
      "text/html": [
       "<div>\n",
       "<style scoped>\n",
       "    .dataframe tbody tr th:only-of-type {\n",
       "        vertical-align: middle;\n",
       "    }\n",
       "\n",
       "    .dataframe tbody tr th {\n",
       "        vertical-align: top;\n",
       "    }\n",
       "\n",
       "    .dataframe thead th {\n",
       "        text-align: right;\n",
       "    }\n",
       "</style>\n",
       "<table border=\"1\" class=\"dataframe\">\n",
       "  <thead>\n",
       "    <tr style=\"text-align: right;\">\n",
       "      <th></th>\n",
       "      <th>Unnamed: 0</th>\n",
       "      <th>headline</th>\n",
       "      <th>url</th>\n",
       "      <th>publisher</th>\n",
       "      <th>stock</th>\n",
       "    </tr>\n",
       "    <tr>\n",
       "      <th>date</th>\n",
       "      <th></th>\n",
       "      <th></th>\n",
       "      <th></th>\n",
       "      <th></th>\n",
       "      <th></th>\n",
       "    </tr>\n",
       "  </thead>\n",
       "  <tbody>\n",
       "    <tr>\n",
       "      <th>2020-06-05 10:30:54-04:00</th>\n",
       "      <td>0</td>\n",
       "      <td>Stocks That Hit 52-Week Highs On Friday</td>\n",
       "      <td>https://www.benzinga.com/news/20/06/16190091/s...</td>\n",
       "      <td>Benzinga Insights</td>\n",
       "      <td>A</td>\n",
       "    </tr>\n",
       "    <tr>\n",
       "      <th>2020-06-03 10:45:20-04:00</th>\n",
       "      <td>1</td>\n",
       "      <td>Stocks That Hit 52-Week Highs On Wednesday</td>\n",
       "      <td>https://www.benzinga.com/news/20/06/16170189/s...</td>\n",
       "      <td>Benzinga Insights</td>\n",
       "      <td>A</td>\n",
       "    </tr>\n",
       "    <tr>\n",
       "      <th>2020-05-26 04:30:07-04:00</th>\n",
       "      <td>2</td>\n",
       "      <td>71 Biggest Movers From Friday</td>\n",
       "      <td>https://www.benzinga.com/news/20/05/16103463/7...</td>\n",
       "      <td>Lisa Levin</td>\n",
       "      <td>A</td>\n",
       "    </tr>\n",
       "    <tr>\n",
       "      <th>2020-05-22 12:45:06-04:00</th>\n",
       "      <td>3</td>\n",
       "      <td>46 Stocks Moving In Friday's Mid-Day Session</td>\n",
       "      <td>https://www.benzinga.com/news/20/05/16095921/4...</td>\n",
       "      <td>Lisa Levin</td>\n",
       "      <td>A</td>\n",
       "    </tr>\n",
       "    <tr>\n",
       "      <th>2020-05-22 11:38:59-04:00</th>\n",
       "      <td>4</td>\n",
       "      <td>B of A Securities Maintains Neutral on Agilent...</td>\n",
       "      <td>https://www.benzinga.com/news/20/05/16095304/b...</td>\n",
       "      <td>Vick Meyer</td>\n",
       "      <td>A</td>\n",
       "    </tr>\n",
       "  </tbody>\n",
       "</table>\n",
       "</div>"
      ],
      "text/plain": [
       "                           Unnamed: 0  \\\n",
       "date                                    \n",
       "2020-06-05 10:30:54-04:00           0   \n",
       "2020-06-03 10:45:20-04:00           1   \n",
       "2020-05-26 04:30:07-04:00           2   \n",
       "2020-05-22 12:45:06-04:00           3   \n",
       "2020-05-22 11:38:59-04:00           4   \n",
       "\n",
       "                                                                    headline  \\\n",
       "date                                                                           \n",
       "2020-06-05 10:30:54-04:00            Stocks That Hit 52-Week Highs On Friday   \n",
       "2020-06-03 10:45:20-04:00         Stocks That Hit 52-Week Highs On Wednesday   \n",
       "2020-05-26 04:30:07-04:00                      71 Biggest Movers From Friday   \n",
       "2020-05-22 12:45:06-04:00       46 Stocks Moving In Friday's Mid-Day Session   \n",
       "2020-05-22 11:38:59-04:00  B of A Securities Maintains Neutral on Agilent...   \n",
       "\n",
       "                                                                         url  \\\n",
       "date                                                                           \n",
       "2020-06-05 10:30:54-04:00  https://www.benzinga.com/news/20/06/16190091/s...   \n",
       "2020-06-03 10:45:20-04:00  https://www.benzinga.com/news/20/06/16170189/s...   \n",
       "2020-05-26 04:30:07-04:00  https://www.benzinga.com/news/20/05/16103463/7...   \n",
       "2020-05-22 12:45:06-04:00  https://www.benzinga.com/news/20/05/16095921/4...   \n",
       "2020-05-22 11:38:59-04:00  https://www.benzinga.com/news/20/05/16095304/b...   \n",
       "\n",
       "                                   publisher stock  \n",
       "date                                                \n",
       "2020-06-05 10:30:54-04:00  Benzinga Insights     A  \n",
       "2020-06-03 10:45:20-04:00  Benzinga Insights     A  \n",
       "2020-05-26 04:30:07-04:00         Lisa Levin     A  \n",
       "2020-05-22 12:45:06-04:00         Lisa Levin     A  \n",
       "2020-05-22 11:38:59-04:00         Vick Meyer     A  "
      ]
     },
     "execution_count": 27,
     "metadata": {},
     "output_type": "execute_result"
    }
   ],
   "source": [
    "# Optionally, you can print or work with the results here\n",
    "print(f\"Correlation between news sentiment and stock returns: {correlation:.2f}\")\n",
    "print(correlation)"
   ]
  },
  {
   "cell_type": "code",
   "execution_count": null,
   "metadata": {},
   "outputs": [],
   "source": [
    "da"
   ]
  }
 ],
 "metadata": {
  "kernelspec": {
   "display_name": "venv",
   "language": "python",
   "name": "python3"
  },
  "language_info": {
   "codemirror_mode": {
    "name": "ipython",
    "version": 3
   },
   "file_extension": ".py",
   "mimetype": "text/x-python",
   "name": "python",
   "nbconvert_exporter": "python",
   "pygments_lexer": "ipython3",
   "version": "3.13.0"
  }
 },
 "nbformat": 4,
 "nbformat_minor": 2
}
