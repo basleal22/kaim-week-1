{
  "cells": [
    {
      "cell_type": "markdown",
      "metadata": {
        "id": "view-in-github",
        "colab_type": "text"
      },
      "source": [
        "<a href=\"https://colab.research.google.com/github/basleal22/kaim-week-1/blob/task-3/notebooks/corelation_analysis.ipynb\" target=\"_parent\"><img src=\"https://colab.research.google.com/assets/colab-badge.svg\" alt=\"Open In Colab\"/></a>"
      ]
    },
    {
      "cell_type": "code",
      "execution_count": 23,
      "metadata": {
        "colab": {
          "base_uri": "https://localhost:8080/"
        },
        "id": "UQOUi8xzbc8m",
        "outputId": "a85bbe8c-7c0b-4e27-bba9-15ff170a8bff"
      },
      "outputs": [
        {
          "output_type": "stream",
          "name": "stdout",
          "text": [
            "Cloning into 'kaim-week-1'...\n",
            "remote: Enumerating objects: 458, done.\u001b[K\n",
            "remote: Counting objects: 100% (279/279), done.\u001b[K\n",
            "remote: Compressing objects: 100% (196/196), done.\u001b[K\n",
            "remote: Total 458 (delta 137), reused 206 (delta 74), pack-reused 179 (from 1)\u001b[K\n",
            "Receiving objects: 100% (458/458), 5.28 MiB | 12.06 MiB/s, done.\n",
            "Resolving deltas: 100% (240/240), done.\n",
            "/content/kaim-week-1/kaim-week-1\n",
            "Branch 'task-3' set up to track remote branch 'task-3' from 'origin'.\n",
            "Switched to a new branch 'task-3'\n"
          ]
        }
      ],
      "source": [
        "!git clone https://github.com/basleal22/kaim-week-1\n",
        "%cd kaim-week-1\n",
        "!git switch task-3"
      ]
    },
    {
      "cell_type": "code",
      "execution_count": 24,
      "metadata": {
        "colab": {
          "base_uri": "https://localhost:8080/"
        },
        "id": "c01sTA1xbvMG",
        "outputId": "ad11c012-d8d4-416f-de05-fe07729dde11"
      },
      "outputs": [
        {
          "output_type": "stream",
          "name": "stdout",
          "text": [
            "Drive already mounted at /content/drive; to attempt to forcibly remount, call drive.mount(\"/content/drive\", force_remount=True).\n"
          ]
        }
      ],
      "source": [
        "from google.colab import drive\n",
        "drive.mount('/content/drive')"
      ]
    },
    {
      "cell_type": "code",
      "execution_count": 31,
      "metadata": {
        "colab": {
          "base_uri": "https://localhost:8080/"
        },
        "id": "qwRvIkVMbUJy",
        "outputId": "f6d98c5d-9256-49c6-fa9e-4e165c73dfe8"
      },
      "outputs": [
        {
          "output_type": "stream",
          "name": "stdout",
          "text": [
            "   Unnamed: 0                                           headline  \\\n",
            "0           0            Stocks That Hit 52-Week Highs On Friday   \n",
            "1           1         Stocks That Hit 52-Week Highs On Wednesday   \n",
            "2           2                      71 Biggest Movers From Friday   \n",
            "3           3       46 Stocks Moving In Friday's Mid-Day Session   \n",
            "4           4  B of A Securities Maintains Neutral on Agilent...   \n",
            "\n",
            "                                                 url          publisher  \\\n",
            "0  https://www.benzinga.com/news/20/06/16190091/s...  Benzinga Insights   \n",
            "1  https://www.benzinga.com/news/20/06/16170189/s...  Benzinga Insights   \n",
            "2  https://www.benzinga.com/news/20/05/16103463/7...         Lisa Levin   \n",
            "3  https://www.benzinga.com/news/20/05/16095921/4...         Lisa Levin   \n",
            "4  https://www.benzinga.com/news/20/05/16095304/b...         Vick Meyer   \n",
            "\n",
            "                        date stock  \n",
            "0  2020-06-05 10:30:54-04:00     A  \n",
            "1  2020-06-03 10:45:20-04:00     A  \n",
            "2  2020-05-26 04:30:07-04:00     A  \n",
            "3  2020-05-22 12:45:06-04:00     A  \n",
            "4  2020-05-22 11:38:59-04:00     A  \n"
          ]
        }
      ],
      "source": [
        "import yfinance as yf\n",
        "import pandas as pd\n",
        "import os\n",
        "from scripts.utils import CorrelationAnalyzer\n",
        "\n",
        "\n",
        "os.chdir('/content/kaim-week-1')\n",
        "datafile = \"/content/drive/MyDrive/data_raw_analyst/raw_analyst_ratings.csv\"  # Replace with the actual path to your CSV data file\n",
        "datafile_1=pd.read_csv(datafile)\n",
        "print(datafile_1.head())\n",
        "\n",
        "#analyzer = CorrelationAnalyzer()  # You can pass None for ticker, start_date, and end_date\n",
        "\n",
        "# Call the sentiment_stock_analysis method to get the correlation and the combined data\n",
        "#correlation, combined_data = analyzer.sentiment_stock_analysis(datafile)\n",
        "#print(combined_data.head())\n",
        "#print(datafile.head())\n"
      ]
    },
    {
      "cell_type": "code",
      "execution_count": 32,
      "metadata": {
        "colab": {
          "base_uri": "https://localhost:8080/"
        },
        "id": "UWwUia4wsInw",
        "outputId": "517531f2-b434-48be-f3e8-f50f22b43308"
      },
      "outputs": [
        {
          "output_type": "stream",
          "name": "stdout",
          "text": [
            "0   2020-06-05 10:30:54\n",
            "1   2020-06-03 10:45:20\n",
            "2   2020-05-26 04:30:07\n",
            "3   2020-05-22 12:45:06\n",
            "4   2020-05-22 11:38:59\n",
            "Name: date, dtype: datetime64[ns]\n"
          ]
        }
      ],
      "source": [
        "datafile_1['date'] = pd.to_datetime(datafile_1['date'], errors='coerce')\n",
        "datafile_1['date'] = datafile_1['date'].dt.tz_localize(None)\n",
        "print(datafile_1['date'].head())"
      ]
    },
    {
      "cell_type": "code",
      "execution_count": 33,
      "metadata": {
        "colab": {
          "base_uri": "https://localhost:8080/"
        },
        "id": "4lvv2-7edHAL",
        "outputId": "361c3341-ebaa-4f40-ed80-1fc3a5692849"
      },
      "outputs": [
        {
          "output_type": "stream",
          "name": "stdout",
          "text": [
            "<class 'str'>\n"
          ]
        }
      ],
      "source": [
        "analyzer = CorrelationAnalyzer()\n",
        "print(type(datafile))\n",
        "datafile_1['sentiment'] = datafile_1['headline'].apply(analyzer.get_sentiment)\n",
        "\n",
        "\n"
      ]
    },
    {
      "cell_type": "code",
      "execution_count": 34,
      "metadata": {
        "colab": {
          "base_uri": "https://localhost:8080/"
        },
        "id": "EVrk11M8kKlM",
        "outputId": "0e667186-e4b8-4d68-8f8e-549bb97714b0"
      },
      "outputs": [
        {
          "output_type": "stream",
          "name": "stdout",
          "text": [
            "Preprocessed Data:                                              headline  sentiment stock\n",
            "0             Stocks That Hit 52-Week Highs On Friday   0.000000     A\n",
            "1          Stocks That Hit 52-Week Highs On Wednesday   0.000000     A\n",
            "2                       71 Biggest Movers From Friday   0.000000     A\n",
            "3        46 Stocks Moving In Friday's Mid-Day Session   0.000000     A\n",
            "4   B of A Securities Maintains Neutral on Agilent...   0.000000     A\n",
            "5   CFRA Maintains Hold on Agilent Technologies, L...   0.000000     A\n",
            "6   UBS Maintains Neutral on Agilent Technologies,...   0.000000     A\n",
            "7   Agilent Technologies shares are trading higher...   0.250000     A\n",
            "8   Wells Fargo Maintains Overweight on Agilent Te...   0.000000     A\n",
            "9          10 Biggest Price Target Changes For Friday   0.000000     A\n",
            "10    30 Stocks Moving in Friday's Pre-Market Session   0.000000     A\n",
            "11  SVB Leerink Maintains Outperform on Agilent Te...   0.000000     A\n",
            "12  8 Stocks Moving In Thursday's After-Hours Session   0.000000     A\n",
            "13  Agilent Technologies shares are trading higher...   0.250000     A\n",
            "14  Agilent Technologies Q2 Adj. EPS $0.71 Beats $...   0.000000     A\n",
            "15                Earnings Scheduled For May 21, 2020   0.000000     A\n",
            "16  Agilent Technologies Receives FDA Approval for...   0.000000     A\n",
            "17  Q1 13F Roundup: How Buffett, Einhorn, Ackman A...   0.000000     A\n",
            "18  Pershing Square 13F Shows Fund Raises Stake In...   0.000000     A\n",
            "19  How Bill Ackman Successfully Navigated Coronav...   0.750000     A\n",
            "20  Shares of several healthcare companies are tra...   0.159091     A\n",
            "21  Shares of several healthcare companies are tra...   0.000000     A\n",
            "22  UBS Maintains Neutral on Agilent Technologies,...   0.000000     A\n",
            "23  Agilent Reports FDA Approval For PD-L1 Compani...   0.000000     A\n",
            "24  Agilent Reports Has Become Top-Level Sponsor O...  -0.200000     A\n",
            "25             Agilent Withdraws Q2 And FY20 Guidance   0.000000     A\n",
            "26  Shares of several companies in the auto dealer...   0.072955     A\n",
            "27  Shares of several healthcare companies are tra...   0.027500     A\n",
            "28  Stifel Maintains Hold on Agilent Technologies,...   0.000000     A\n",
            "29  Shares of several healthcare companies are tra...   0.000000     A\n"
          ]
        }
      ],
      "source": [
        "print(\"Preprocessed Data:\", datafile_1[['headline','sentiment','stock']].head(30))"
      ]
    },
    {
      "cell_type": "code",
      "execution_count": 41,
      "metadata": {
        "id": "RFBlUqsslDRm"
      },
      "outputs": [],
      "source": [
        "datafile_1 = datafile_1.dropna(subset=['headline', 'date', 'stock'])\n",
        "preprocessed_data = analyzer.sentiment_correlation(datafile_1)\n"
      ]
    },
    {
      "cell_type": "code",
      "execution_count": 42,
      "metadata": {
        "colab": {
          "base_uri": "https://localhost:8080/"
        },
        "id": "-z00145EnePi",
        "outputId": "2cabc5c1-3f56-464f-c3fd-b73f49f31fbf"
      },
      "outputs": [
        {
          "output_type": "stream",
          "name": "stdout",
          "text": [
            "Preprocessed Data:\n",
            "                                                 headline                date  \\\n",
            "355064  ETFs To Watch April 28, 2011 (DGP, IEO, PRN, IDX) 2011-04-27 21:01:48   \n",
            "435456                A New Regional Emerging Markets ETF 2011-04-28 13:49:29   \n",
            "348178  Dejour Extends Credit Facility to October 31st... 2011-04-28 15:00:36   \n",
            "48673         ETF Showdown: Crouching Tigers, Hidden ETFs 2011-04-29 13:47:06   \n",
            "536537  The GDL Fund to Redeem Its Outstanding 8.50% S... 2011-04-29 16:11:05   \n",
            "\n",
            "       stock  \n",
            "355064   DGP  \n",
            "435456   ESR  \n",
            "348178   DEJ  \n",
            "48673    AIA  \n",
            "536537   GDL  \n"
          ]
        }
      ],
      "source": [
        "print(\"Preprocessed Data:\")\n",
        "print(preprocessed_data.head())"
      ]
    },
    {
      "cell_type": "code",
      "execution_count": 49,
      "metadata": {
        "colab": {
          "base_uri": "https://localhost:8080/"
        },
        "id": "TfPcC3uqbUJ2",
        "outputId": "8756f474-9077-4245-d6b9-dea3454e38c2"
      },
      "outputs": [
        {
          "output_type": "stream",
          "name": "stdout",
          "text": [
            "object\n",
            "0    A\n",
            "1    A\n",
            "2    A\n",
            "3    A\n",
            "4    A\n",
            "Name: stock, dtype: object\n"
          ]
        }
      ],
      "source": [
        "print(datafile_1['stock'].dtype)\n",
        "print(datafile_1['stock'].head())\n",
        "datafile_1['sentiment'] = pd.to_numeric(datafile_1['sentiment'], errors='coerce')\n",
        "datafile_1['stock'] = pd.to_numeric(datafile_1['stock'], errors='coerce')\n",
        "datafile_1.dropna(subset=['sentiment', 'stock'], inplace=True)"
      ]
    },
    {
      "cell_type": "code",
      "execution_count": 47,
      "metadata": {
        "colab": {
          "base_uri": "https://localhost:8080/"
        },
        "id": "Icl-gFvNbUJ3",
        "outputId": "bff679c9-0dcd-4572-f741-e04a44babc1f"
      },
      "outputs": [
        {
          "output_type": "stream",
          "name": "stdout",
          "text": [
            "Correlation Results DataFrame:\n",
            "                                                 headline                date  \\\n",
            "355064  ETFs To Watch April 28, 2011 (DGP, IEO, PRN, IDX) 2011-04-27 21:01:48   \n",
            "435456                A New Regional Emerging Markets ETF 2011-04-28 13:49:29   \n",
            "348178  Dejour Extends Credit Facility to October 31st... 2011-04-28 15:00:36   \n",
            "48673         ETF Showdown: Crouching Tigers, Hidden ETFs 2011-04-29 13:47:06   \n",
            "536537  The GDL Fund to Redeem Its Outstanding 8.50% S... 2011-04-29 16:11:05   \n",
            "\n",
            "       stock  \n",
            "355064   DGP  \n",
            "435456   ESR  \n",
            "348178   DEJ  \n",
            "48673    AIA  \n",
            "536537   GDL  \n"
          ]
        }
      ],
      "source": [
        "# Optionally, you can print or work with the results here\n",
        "correlation = analyzer.sentiment_correlation(datafile_1)\n",
        "print(\"Correlation Results DataFrame:\")\n",
        "print(correlation.head())"
      ]
    },
    {
      "cell_type": "code",
      "execution_count": null,
      "metadata": {
        "id": "hwdDpU-kbUJ3"
      },
      "outputs": [],
      "source": []
    }
  ],
  "metadata": {
    "accelerator": "GPU",
    "colab": {
      "gpuType": "T4",
      "provenance": [],
      "include_colab_link": true
    },
    "kernelspec": {
      "display_name": "Python 3",
      "name": "python3"
    },
    "language_info": {
      "codemirror_mode": {
        "name": "ipython",
        "version": 3
      },
      "file_extension": ".py",
      "mimetype": "text/x-python",
      "name": "python",
      "nbconvert_exporter": "python",
      "pygments_lexer": "ipython3",
      "version": "3.13.0"
    }
  },
  "nbformat": 4,
  "nbformat_minor": 0
}