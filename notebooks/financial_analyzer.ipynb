{
 "cells": [
  {
   "cell_type": "code",
   "execution_count": 1,
   "metadata": {},
   "outputs": [
    {
     "name": "stderr",
     "output_type": "stream",
     "text": [
      "<>:9: SyntaxWarning: invalid escape sequence '\\y'\n",
      "<>:9: SyntaxWarning: invalid escape sequence '\\y'\n",
      "C:\\Users\\hp\\AppData\\Local\\Temp\\ipykernel_15364\\496539854.py:9: SyntaxWarning: invalid escape sequence '\\y'\n",
      "  data = pd.read_csv('data\\yfinance_data\\TSLA_historical_data.csv')\n"
     ]
    },
    {
     "name": "stdout",
     "output_type": "stream",
     "text": [
      "c:\\Users\\hp\\Desktop\\tutorial\\kaim-week-1\n"
     ]
    }
   ],
   "source": [
    "import os\n",
    "import pandas as pd\n",
    "\n",
    "os.chdir('c:/Users/hp/Desktop/tutorial/kaim-week-1')\n",
    "print(os.getcwd())\n",
    "from scripts.utils import financial_analyzer\n",
    "folder_path = 'data/yfinance_data'\n",
    "ticker = 'AAPL_historical_data.csv'\n",
    "data = pd.read_csv('data\\yfinance_data\\TSLA_historical_data.csv')\n",
    "\n"
   ]
  },
  {
   "cell_type": "code",
   "execution_count": 8,
   "metadata": {},
   "outputs": [
    {
     "data": {
      "text/plain": [
       "(3545, 16)"
      ]
     },
     "execution_count": 8,
     "metadata": {},
     "output_type": "execute_result"
    }
   ],
   "source": [
    "data.head()\n",
    "data.shape"
   ]
  },
  {
   "cell_type": "code",
   "execution_count": 11,
   "metadata": {},
   "outputs": [
    {
     "name": "stdout",
     "output_type": "stream",
     "text": [
      "          Date    sma_50        rsi  ema      macd  macd_signal  macd_hist\n",
      "49  2010-09-08  1.322240  54.810659  NaN  0.021918     0.010559   0.011359\n",
      "50  2010-09-09  1.318000  53.317097  NaN  0.022756     0.012998   0.009757\n",
      "51  2010-09-10  1.313120  49.212400  NaN  0.020281     0.014455   0.005826\n",
      "52  2010-09-13  1.311467  53.167084  NaN  0.021036     0.015771   0.005265\n",
      "53  2010-09-14  1.314027  55.859173  NaN  0.023514     0.017320   0.006195\n",
      "54  2010-09-15  1.321853  61.043932  NaN  0.029762     0.019808   0.009954\n",
      "55  2010-09-16  1.328707  52.944918  NaN  0.028787     0.021604   0.007183\n",
      "56  2010-09-17  1.332400  48.239468  NaN  0.023919     0.022067   0.001852\n",
      "57  2010-09-20  1.337280  53.448053  NaN  0.024247     0.022503   0.001744\n",
      "58  2010-09-21  1.342240  51.498153  NaN  0.022685     0.022539   0.000146\n",
      "59  2010-09-22  1.344547  45.901316  NaN  0.016416     0.021315  -0.004898\n"
     ]
    }
   ],
   "source": [
    "indicators = financial_analyzer.calculate_indicators_talib(data)#('TSLA', '2021-01-01', '2021-12-31')\n",
    "print(indicators[['Date','sma_50','rsi','ema','macd','macd_signal','macd_hist']].iloc[49:60])#print 10 rows from 49 to 60"
   ]
  },
  {
   "cell_type": "code",
   "execution_count": null,
   "metadata": {},
   "outputs": [],
   "source": []
  },
  {
   "cell_type": "code",
   "execution_count": null,
   "metadata": {},
   "outputs": [],
   "source": []
  },
  {
   "cell_type": "code",
   "execution_count": null,
   "metadata": {},
   "outputs": [],
   "source": []
  }
 ],
 "metadata": {
  "kernelspec": {
   "display_name": "venv",
   "language": "python",
   "name": "python3"
  },
  "language_info": {
   "codemirror_mode": {
    "name": "ipython",
    "version": 3
   },
   "file_extension": ".py",
   "mimetype": "text/x-python",
   "name": "python",
   "nbconvert_exporter": "python",
   "pygments_lexer": "ipython3",
   "version": "3.13.0"
  }
 },
 "nbformat": 4,
 "nbformat_minor": 2
}
