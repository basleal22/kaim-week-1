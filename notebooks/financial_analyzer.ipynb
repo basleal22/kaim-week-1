{
 "cells": [
  {
   "cell_type": "code",
   "execution_count": 10,
   "metadata": {},
   "outputs": [
    {
     "name": "stderr",
     "output_type": "stream",
     "text": [
      "<>:9: SyntaxWarning: invalid escape sequence '\\y'\n",
      "<>:9: SyntaxWarning: invalid escape sequence '\\y'\n",
      "C:\\Users\\hp\\AppData\\Local\\Temp\\ipykernel_15760\\2226504074.py:9: SyntaxWarning: invalid escape sequence '\\y'\n",
      "  data = pd.read_csv('data\\yfinance_data\\TSLA_historical_data.csv')\n"
     ]
    },
    {
     "name": "stdout",
     "output_type": "stream",
     "text": [
      "c:\\Users\\hp\\Desktop\\tutorial\\kaim-week-1\n"
     ]
    },
    {
     "name": "stderr",
     "output_type": "stream",
     "text": [
      "C:\\Users\\hp\\AppData\\Local\\Temp\\ipykernel_15760\\2226504074.py:9: SyntaxWarning: invalid escape sequence '\\y'\n",
      "  data = pd.read_csv('data\\yfinance_data\\TSLA_historical_data.csv')\n"
     ]
    },
    {
     "ename": "TypeError",
     "evalue": "financial_analyzer.calculatemetrics_pynance() missing 3 required positional arguments: 'ticker', 'start_date', and 'end_date'",
     "output_type": "error",
     "traceback": [
      "\u001b[1;31m---------------------------------------------------------------------------\u001b[0m",
      "\u001b[1;31mTypeError\u001b[0m                                 Traceback (most recent call last)",
      "Cell \u001b[1;32mIn[10], line 10\u001b[0m\n\u001b[0;32m      8\u001b[0m ticker \u001b[38;5;241m=\u001b[39m \u001b[38;5;124m'\u001b[39m\u001b[38;5;124mAAPL_historical_data.csv\u001b[39m\u001b[38;5;124m'\u001b[39m\n\u001b[0;32m      9\u001b[0m data \u001b[38;5;241m=\u001b[39m pd\u001b[38;5;241m.\u001b[39mread_csv(\u001b[38;5;124m'\u001b[39m\u001b[38;5;124mdata\u001b[39m\u001b[38;5;124m\\\u001b[39m\u001b[38;5;124myfinance_data\u001b[39m\u001b[38;5;124m\\\u001b[39m\u001b[38;5;124mTSLA_historical_data.csv\u001b[39m\u001b[38;5;124m'\u001b[39m)\n\u001b[1;32m---> 10\u001b[0m indicators\u001b[38;5;241m=\u001b[39m \u001b[43mfinancial_analyzer\u001b[49m\u001b[38;5;241;43m.\u001b[39;49m\u001b[43mcalculatemetrics_pynance\u001b[49m\u001b[43m(\u001b[49m\u001b[43mdata\u001b[49m\u001b[43m)\u001b[49m\n\u001b[0;32m     11\u001b[0m \u001b[38;5;28mprint\u001b[39m(indicators\u001b[38;5;241m.\u001b[39mhead())\n",
      "\u001b[1;31mTypeError\u001b[0m: financial_analyzer.calculatemetrics_pynance() missing 3 required positional arguments: 'ticker', 'start_date', and 'end_date'"
     ]
    }
   ],
   "source": [
    "import os\n",
    "import pandas as pd\n",
    "\n",
    "os.chdir('c:/Users/hp/Desktop/tutorial/kaim-week-1')\n",
    "print(os.getcwd())\n",
    "from scripts.utils import financial_analyzer\n",
    "folder_path = 'data/yfinance_data'\n",
    "ticker = 'AAPL_historical_data.csv'\n",
    "data = pd.read_csv('data\\yfinance_data\\TSLA_historical_data.csv')\n",
    "indicators= financial_analyzer.calculatemetrics_pynance(data)\n",
    "print(indicators.head())\n"
   ]
  },
  {
   "cell_type": "code",
   "execution_count": null,
   "metadata": {},
   "outputs": [],
   "source": []
  },
  {
   "cell_type": "code",
   "execution_count": null,
   "metadata": {},
   "outputs": [],
   "source": []
  },
  {
   "cell_type": "code",
   "execution_count": null,
   "metadata": {},
   "outputs": [],
   "source": []
  },
  {
   "cell_type": "code",
   "execution_count": null,
   "metadata": {},
   "outputs": [],
   "source": []
  }
 ],
 "metadata": {
  "kernelspec": {
   "display_name": "venv",
   "language": "python",
   "name": "python3"
  },
  "language_info": {
   "codemirror_mode": {
    "name": "ipython",
    "version": 3
   },
   "file_extension": ".py",
   "mimetype": "text/x-python",
   "name": "python",
   "nbconvert_exporter": "python",
   "pygments_lexer": "ipython3",
   "version": "3.13.0"
  }
 },
 "nbformat": 4,
 "nbformat_minor": 2
}
