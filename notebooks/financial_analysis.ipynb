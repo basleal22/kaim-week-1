{
 "cells": [
  {
   "cell_type": "code",
   "execution_count": 5,
   "id": "5a214670-36d1-4b02-8fb9-d5ae69e9f53b",
   "metadata": {},
   "outputs": [
    {
     "name": "stdout",
     "output_type": "stream",
     "text": [
      "ERROR! Session/line number was not unique in database. History logging moved to new session 5\n"
     ]
    },
    {
     "ename": "AttributeError",
     "evalue": "'dict' object has no attribute 'head'",
     "output_type": "error",
     "traceback": [
      "\u001b[1;31m---------------------------------------------------------------------------\u001b[0m",
      "\u001b[1;31mAttributeError\u001b[0m                            Traceback (most recent call last)",
      "Cell \u001b[1;32mIn[5], line 10\u001b[0m\n\u001b[0;32m      8\u001b[0m \u001b[38;5;28;01mfrom\u001b[39;00m \u001b[38;5;21;01mscripts\u001b[39;00m\u001b[38;5;21;01m.\u001b[39;00m\u001b[38;5;21;01mutils\u001b[39;00m \u001b[38;5;28;01mimport\u001b[39;00m read_csv_file\n\u001b[0;32m      9\u001b[0m data \u001b[38;5;241m=\u001b[39m read_csv_file(data_path)\n\u001b[1;32m---> 10\u001b[0m \u001b[43mdata\u001b[49m\u001b[38;5;241;43m.\u001b[39;49m\u001b[43mhead\u001b[49m(\u001b[38;5;241m30\u001b[39m)\n",
      "\u001b[1;31mAttributeError\u001b[0m: 'dict' object has no attribute 'head'"
     ]
    }
   ],
   "source": [
    "#getting the length of the headline\n",
    "import numpy as np\n",
    "import os\n",
    "data_path='data/raw_analyst_ratings.csv'\n",
    "os.chdir(r'C:\\Users\\hp\\Desktop\\tutorial\\kaim-week-1')  # Set absolute path to root\n",
    "import sys\n",
    "sys.path.append('.')  # Add current directory to path\n",
    "from scripts.utils import read_csv_file\n",
    "data = read_csv_file(data_path)\n",
    "data.head(30)\n",
    "\n"
   ]
  },
  {
   "cell_type": "markdown",
   "id": "e5b7de34",
   "metadata": {},
   "source": []
  }
 ],
 "metadata": {
  "kernelspec": {
   "display_name": "Python 3 (ipykernel)",
   "language": "python",
   "name": "python3"
  },
  "language_info": {
   "codemirror_mode": {
    "name": "ipython",
    "version": 3
   },
   "file_extension": ".py",
   "mimetype": "text/x-python",
   "name": "python",
   "nbconvert_exporter": "python",
   "pygments_lexer": "ipython3",
   "version": "3.13.0"
  }
 },
 "nbformat": 4,
 "nbformat_minor": 5
}
