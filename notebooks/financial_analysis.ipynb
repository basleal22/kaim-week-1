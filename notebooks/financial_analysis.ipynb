{
 "cells": [
  {
   "cell_type": "code",
   "execution_count": 1,
   "id": "5a214670-36d1-4b02-8fb9-d5ae69e9f53b",
   "metadata": {},
   "outputs": [],
   "source": [
    "import os\n",
    "import sys\n",
    "\n",
    "# Set working directory to project root\n",
    "os.chdir(r'C:\\Users\\hp\\Desktop\\tutorial\\kaim-week-1')\n",
    "\n",
    "# Add current directory to Python path\n",
    "sys.path.append('.')\n",
    "\n",
    "# Now import should work\n",
    "from scripts.utils import read_csv_file, count_headline_length\n",
    "\n"
   ]
  },
  {
   "cell_type": "markdown",
   "id": "5651b10e",
   "metadata": {},
   "source": [
    "read the csv file and display the first 30 rows"
   ]
  },
  {
   "cell_type": "code",
   "execution_count": 2,
   "id": "77ccda19",
   "metadata": {},
   "outputs": [
    {
     "ename": "NameError",
     "evalue": "name 'data_path' is not defined",
     "output_type": "error",
     "traceback": [
      "\u001b[1;31m---------------------------------------------------------------------------\u001b[0m",
      "\u001b[1;31mNameError\u001b[0m                                 Traceback (most recent call last)",
      "Cell \u001b[1;32mIn[2], line 1\u001b[0m\n\u001b[1;32m----> 1\u001b[0m data \u001b[38;5;241m=\u001b[39m read_csv_file(\u001b[43mdata_path\u001b[49m)\n\u001b[0;32m      2\u001b[0m data\u001b[38;5;241m=\u001b[39mdata\u001b[38;5;241m.\u001b[39mget(\u001b[38;5;124m\"\u001b[39m\u001b[38;5;124mdata\u001b[39m\u001b[38;5;124m\"\u001b[39m)\n\u001b[0;32m      3\u001b[0m data\u001b[38;5;241m.\u001b[39mhead(\u001b[38;5;241m30\u001b[39m)\n",
      "\u001b[1;31mNameError\u001b[0m: name 'data_path' is not defined"
     ]
    }
   ],
   "source": [
    "data_path = \"data/financial_data.csv\"\n",
    "data = read_csv_file(data_path)\n",
    "data=data.get(\"data\")\n",
    "data.head(30)\n"
   ]
  },
  {
   "cell_type": "code",
   "execution_count": 3,
   "id": "8cd839fd",
   "metadata": {},
   "outputs": [
    {
     "ename": "NameError",
     "evalue": "name 'data' is not defined",
     "output_type": "error",
     "traceback": [
      "\u001b[1;31m---------------------------------------------------------------------------\u001b[0m",
      "\u001b[1;31mNameError\u001b[0m                                 Traceback (most recent call last)",
      "Cell \u001b[1;32mIn[3], line 2\u001b[0m\n\u001b[0;32m      1\u001b[0m \u001b[38;5;28;01mfrom\u001b[39;00m \u001b[38;5;21;01mscripts\u001b[39;00m\u001b[38;5;21;01m.\u001b[39;00m\u001b[38;5;21;01mutils\u001b[39;00m \u001b[38;5;28;01mimport\u001b[39;00m count_headline_length\n\u001b[1;32m----> 2\u001b[0m result\u001b[38;5;241m=\u001b[39mcount_headline_length(\u001b[43mdata\u001b[49m)\n\u001b[0;32m      3\u001b[0m \u001b[38;5;28mprint\u001b[39m(\u001b[38;5;124m\"\u001b[39m\u001b[38;5;124mmean length:\u001b[39m\u001b[38;5;124m\"\u001b[39m, result\u001b[38;5;241m.\u001b[39mget(\u001b[38;5;124m\"\u001b[39m\u001b[38;5;124mmean\u001b[39m\u001b[38;5;124m\"\u001b[39m))\n\u001b[0;32m      4\u001b[0m \u001b[38;5;28mprint\u001b[39m(\u001b[38;5;124m\"\u001b[39m\u001b[38;5;124mmedian length:\u001b[39m\u001b[38;5;124m\"\u001b[39m, result\u001b[38;5;241m.\u001b[39mget(\u001b[38;5;124m\"\u001b[39m\u001b[38;5;124mmedian_length\u001b[39m\u001b[38;5;124m\"\u001b[39m))\n",
      "\u001b[1;31mNameError\u001b[0m: name 'data' is not defined"
     ]
    }
   ],
   "source": [
    "from scripts.utils import count_headline_length\n",
    "result=count_headline_length(data)\n",
    "print(\"mean length:\", result.get(\"mean\"))\n",
    "print(\"median length:\", result.get(\"median_length\"))\n",
    "print(\"standard deviation:\", result.get(\"stdev_length\"))\n",
    "print(\"length counts:\", result.get(\"length_counts\"))\n"
   ]
  },
  {
   "cell_type": "markdown",
   "id": "e5b7de34",
   "metadata": {},
   "source": []
  }
 ],
 "metadata": {
  "kernelspec": {
   "display_name": "Python 3 (ipykernel)",
   "language": "python",
   "name": "python3"
  },
  "language_info": {
   "codemirror_mode": {
    "name": "ipython",
    "version": 3
   },
   "file_extension": ".py",
   "mimetype": "text/x-python",
   "name": "python",
   "nbconvert_exporter": "python",
   "pygments_lexer": "ipython3",
   "version": "3.13.0"
  }
 },
 "nbformat": 4,
 "nbformat_minor": 5
}
