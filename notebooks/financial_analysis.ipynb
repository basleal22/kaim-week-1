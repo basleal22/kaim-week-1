{
 "cells": [
  {
   "cell_type": "code",
   "execution_count": null,
   "id": "5a214670-36d1-4b02-8fb9-d5ae69e9f53b",
   "metadata": {},
   "outputs": [],
   "source": [
    "#getting the length of the headline\n"
   ]
  }
 ],
 "metadata": {
  "kernelspec": {
   "display_name": "Python 3 (ipykernel)",
   "language": "python",
   "name": "python3"
  },
  "language_info": {
   "codemirror_mode": {
    "name": "ipython",
    "version": 3
   },
   "file_extension": ".py",
   "mimetype": "text/x-python",
   "name": "python",
   "nbconvert_exporter": "python",
   "pygments_lexer": "ipython3",
   "version": "3.13.0"
  }
 },
 "nbformat": 4,
 "nbformat_minor": 5
}
